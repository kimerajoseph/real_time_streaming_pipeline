{
 "cells": [
  {
   "cell_type": "code",
   "execution_count": 1,
   "id": "488ce078",
   "metadata": {},
   "outputs": [],
   "source": [
    "import boto3\n",
    "import random\n",
    "from datetime import datetime\n",
    "import json"
   ]
  },
  {
   "cell_type": "code",
   "execution_count": 2,
   "id": "f67103fc",
   "metadata": {},
   "outputs": [],
   "source": [
    "kinesis_client = boto3.client('kinesis', region_name='<aws-region>',aws_access_key_id='<aws-key-id>',\n",
    "                      aws_secret_access_key='<aws-secret-key>')"
   ]
  },
  {
   "cell_type": "code",
   "execution_count": null,
   "id": "ebbcc594",
   "metadata": {},
   "outputs": [],
   "source": [
    "STREAM_NAME = '<your-stream-name>'\n",
    "\n",
    "# generate random stock data and write it to stream\n",
    "def get_data():\n",
    "    return {\n",
    "        'event_time':datetime.now().isoformat(),\n",
    "        'ticker':random.choice(['APPL','AMZN','MSFT','INTC','TBV']),\n",
    "        'price':round(random.random()* 100, 2)\n",
    "            }\n",
    "\n",
    "def generate(stream_name, kinesis_client):\n",
    "    while True:\n",
    "        data = get_data()\n",
    "        print(data)\n",
    "        kinesis_client.put_record(\n",
    "            StreamName = stream_name,\n",
    "            Data = json.dumps(data),\n",
    "            PartitionKey='partitionkey'\n",
    "        )\n",
    "\n",
    "if __name__ == \"__main__\":\n",
    "    generate(STREAM_NAME, kinesis_client)\n"
   ]
  }
 ],
 "metadata": {
  "kernelspec": {
   "display_name": "Python 3 (ipykernel)",
   "language": "python",
   "name": "python3"
  },
  "language_info": {
   "codemirror_mode": {
    "name": "ipython",
    "version": 3
   },
   "file_extension": ".py",
   "mimetype": "text/x-python",
   "name": "python",
   "nbconvert_exporter": "python",
   "pygments_lexer": "ipython3",
   "version": "3.8.12"
  }
 },
 "nbformat": 4,
 "nbformat_minor": 5
}
