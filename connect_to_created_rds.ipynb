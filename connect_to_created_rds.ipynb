{
 "cells": [
  {
   "cell_type": "code",
   "execution_count": 2,
   "id": "facb6798",
   "metadata": {},
   "outputs": [],
   "source": [
    "import pymysql"
   ]
  },
  {
   "cell_type": "code",
   "execution_count": 3,
   "id": "9bfa7f24",
   "metadata": {},
   "outputs": [],
   "source": [
    "# AWS CREATES AN INSTANCE WITH NO DATABASE\n",
    "# ONE INSTANCE CAN HAVE MORE THAN ONE DATABASE\n",
    "conn = pymysql.connect(\n",
    "    host='<your-aws-rds-endpoint>',\n",
    "    port=3306,\n",
    "    user=\"<your-user-name>\",\n",
    "    passwd=\"<your-password>\",\n",
    "    charset='utf8mb4')\n",
    "\n",
    "# create cursor\n",
    "c = conn.cursor()"
   ]
  },
  {
   "cell_type": "code",
   "execution_count": 6,
   "id": "ed5759ab",
   "metadata": {},
   "outputs": [],
   "source": [
    "# create database\n",
    "c.execute(\"CREATE DATABASE <your-database-name>\")\n",
    "conn.commit()"
   ]
  },
  {
   "cell_type": "code",
   "execution_count": null,
   "id": "829ae033",
   "metadata": {},
   "outputs": [],
   "source": [
    "# check if databade is create\n",
    "c.execute(\"USE <your-database-name>\")"
   ]
  }
 ],
 "metadata": {
  "kernelspec": {
   "display_name": "Python 3 (ipykernel)",
   "language": "python",
   "name": "python3"
  },
  "language_info": {
   "codemirror_mode": {
    "name": "ipython",
    "version": 3
   },
   "file_extension": ".py",
   "mimetype": "text/x-python",
   "name": "python",
   "nbconvert_exporter": "python",
   "pygments_lexer": "ipython3",
   "version": "3.8.12"
  }
 },
 "nbformat": 4,
 "nbformat_minor": 5
}
